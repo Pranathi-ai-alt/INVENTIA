{
  "nbformat": 4,
  "nbformat_minor": 0,
  "metadata": {
    "colab": {
      "provenance": []
    },
    "kernelspec": {
      "name": "python3",
      "display_name": "Python 3"
    },
    "language_info": {
      "name": "python"
    }
  },
  "cells": [
    {
      "cell_type": "code",
      "execution_count": 14,
      "metadata": {
        "colab": {
          "base_uri": "https://localhost:8080/"
        },
        "id": "uVXaOpXO4B8j",
        "outputId": "d2537554-d9c3-4ea3-c53c-7176667cb8c1"
      },
      "outputs": [
        {
          "output_type": "stream",
          "name": "stdout",
          "text": [
            "[\"It's not only writers who can benifit from this free online tool.\", \"If you're  a programmer who's working on a project where blocks of text are needed this tool can be a great way to get that.\", \"It's a good way to test your programming and that the tool being created is working well.\"]\n"
          ]
        },
        {
          "output_type": "stream",
          "name": "stderr",
          "text": [
            "[nltk_data] Downloading package punkt to /root/nltk_data...\n",
            "[nltk_data]   Package punkt is already up-to-date!\n"
          ]
        }
      ],
      "source": [
        "import nltk # imports the nltk library\n",
        "nltk.download('punkt') # downloads the punkt sentence tokenizer models\n",
        "text=\"It's not only writers who can benifit from this free online tool. If you're  a programmer who's working on a project where blocks of text are needed this tool can be a great way to get that. It's a good way to test your programming and that the tool being created is working well.\"\n",
        "sentence=nltk.sent_tokenize(text) # assigns the tokenized sentences to the variable 'sentence'\n",
        "print(sentence) # prints the tokenized sentences"
      ]
    },
    {
      "cell_type": "code",
      "source": [
        "import nltk # imports the nltk library\n",
        "nltk.download('punkt') # downloads the punkt sentence tokenizer models\n",
        "text=\"It's not only writers who can benifit from this free online tool. If you're  a programmer who's working on a project where blocks of text are needed this tool can be a great way to get that. It's a good way to test your programming and that the tool being created is working well.\"\n",
        "sentence=nltk.sent_tokenize(text) # assigns the tokenized sentences to the variable 'sentence'\n",
        "print(sentence) # prints the tokenized sentences\n"
      ],
      "metadata": {
        "colab": {
          "base_uri": "https://localhost:8080/"
        },
        "id": "uS5pAGxO5nda",
        "outputId": "1f5d9f04-05cb-414b-f8d3-8e93a43205a2"
      },
      "execution_count": 2,
      "outputs": [
        {
          "output_type": "stream",
          "name": "stdout",
          "text": [
            "[\"It's not only writers who can benifit from this free online tool.\", \"If you're  a programmer who's working on a project where blocks of text are needed this tool can be a great way to get that.\", \"It's a good way to test your programming and that the tool being created is working well.\"]\n"
          ]
        },
        {
          "output_type": "stream",
          "name": "stderr",
          "text": [
            "[nltk_data] Downloading package punkt to /root/nltk_data...\n",
            "[nltk_data]   Package punkt is already up-to-date!\n"
          ]
        }
      ]
    },
    {
      "cell_type": "code",
      "source": [
        "word=nltk.word_tokenize(text)\n",
        "print(word)"
      ],
      "metadata": {
        "colab": {
          "base_uri": "https://localhost:8080/"
        },
        "id": "B0p9asR75sgT",
        "outputId": "82aa89dc-f4a6-4721-86c9-3ce764469799"
      },
      "execution_count": 3,
      "outputs": [
        {
          "output_type": "stream",
          "name": "stdout",
          "text": [
            "['It', \"'s\", 'not', 'only', 'writers', 'who', 'can', 'benifit', 'from', 'this', 'free', 'online', 'tool', '.', 'If', 'you', \"'re\", 'a', 'programmer', 'who', \"'s\", 'working', 'on', 'a', 'project', 'where', 'blocks', 'of', 'text', 'are', 'needed', 'this', 'tool', 'can', 'be', 'a', 'great', 'way', 'to', 'get', 'that', '.', 'It', \"'s\", 'a', 'good', 'way', 'to', 'test', 'your', 'programming', 'and', 'that', 'the', 'tool', 'being', 'created', 'is', 'working', 'well', '.']\n"
          ]
        }
      ]
    },
    {
      "cell_type": "code",
      "source": [
        "import nltk\n",
        "from nltk.stem import PorterStemmer\n",
        "nltk.download('stopwords')\n",
        "nltk.download('punkt')\n",
        "#define stemmer\n",
        "stemmer=PorterStemmer()\n",
        "from nltk.corpus import stopwords"
      ],
      "metadata": {
        "colab": {
          "base_uri": "https://localhost:8080/"
        },
        "id": "xw9siE0P55PY",
        "outputId": "36159378-10a7-406d-c35b-5fafde3dec80"
      },
      "execution_count": 4,
      "outputs": [
        {
          "output_type": "stream",
          "name": "stderr",
          "text": [
            "[nltk_data] Downloading package stopwords to /root/nltk_data...\n",
            "[nltk_data]   Unzipping corpora/stopwords.zip.\n",
            "[nltk_data] Downloading package punkt to /root/nltk_data...\n",
            "[nltk_data]   Package punkt is already up-to-date!\n"
          ]
        }
      ]
    },
    {
      "cell_type": "code",
      "source": [
        "for i in range(len(sentence)):\n",
        "  words = nltk.word_tokenize(sentence[i]) # changed nltk.words_tokenize to nltk.word_tokenize\n",
        "  words = [stemmer.stem(word) for word in words if word not in set(stopwords.words('english'))]\n",
        "  sentence[i] = ' '.join(words)\n",
        "print(sentence)"
      ],
      "metadata": {
        "colab": {
          "base_uri": "https://localhost:8080/"
        },
        "id": "NxVg10vF67Fq",
        "outputId": "a5069666-7bd4-42a5-e40d-f2bb547929a0"
      },
      "execution_count": 8,
      "outputs": [
        {
          "output_type": "stream",
          "name": "stdout",
          "text": [
            "[\"it 's writer benifit free onlin tool .\", \"if 're programm 's work project block text need tool great way get .\", \"it 's good way test program tool creat work well .\"]\n"
          ]
        }
      ]
    },
    {
      "cell_type": "code",
      "source": [
        "nltk.download('wordnet')"
      ],
      "metadata": {
        "colab": {
          "base_uri": "https://localhost:8080/"
        },
        "id": "9FgzCH4y7uGv",
        "outputId": "c332e010-cb87-4b49-dc1e-b368fd22c0b2"
      },
      "execution_count": 9,
      "outputs": [
        {
          "output_type": "stream",
          "name": "stderr",
          "text": [
            "[nltk_data] Downloading package wordnet to /root/nltk_data...\n"
          ]
        },
        {
          "output_type": "execute_result",
          "data": {
            "text/plain": [
              "True"
            ]
          },
          "metadata": {},
          "execution_count": 9
        }
      ]
    },
    {
      "cell_type": "code",
      "source": [
        "from nltk.stem import WordNetLemmatizer\n",
        "from nltk.corpus import stopwords\n",
        "lemma = WordNetLemmatizer()"
      ],
      "metadata": {
        "id": "azxCpNdB72GZ"
      },
      "execution_count": 10,
      "outputs": []
    },
    {
      "cell_type": "code",
      "source": [
        "#Ensure that sentence_lem is assigned a value before being used\n",
        "sentence_lem = nltk.sent_tokenize(text) #Added this line to define sentence_lem\n",
        "\n",
        "#Lemmatization\n",
        "for i in range(len(sentence_lem)):\n",
        "  words = nltk.word_tokenize(sentence_lem[i])\n",
        "  words = [lemma.lemmatize(word) for word in words if word not in set(stopwords.words('english'))]\n",
        "  sentence_lem[i] = ' '.join(words)"
      ],
      "metadata": {
        "id": "5qP3-tDb8QO-"
      },
      "execution_count": 12,
      "outputs": []
    },
    {
      "cell_type": "code",
      "source": [
        "sentence_lem"
      ],
      "metadata": {
        "colab": {
          "base_uri": "https://localhost:8080/"
        },
        "id": "7VE7VqUX9C3e",
        "outputId": "f9735e6f-6951-4166-c4aa-b17842fcdc67"
      },
      "execution_count": 13,
      "outputs": [
        {
          "output_type": "execute_result",
          "data": {
            "text/plain": [
              "[\"It 's writer benifit free online tool .\",\n",
              " \"If 're programmer 's working project block text needed tool great way get .\",\n",
              " \"It 's good way test programming tool created working well .\"]"
            ]
          },
          "metadata": {},
          "execution_count": 13
        }
      ]
    }
  ]
}